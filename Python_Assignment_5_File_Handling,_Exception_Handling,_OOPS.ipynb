{
  "nbformat": 4,
  "nbformat_minor": 0,
  "metadata": {
    "colab": {
      "provenance": [],
      "authorship_tag": "ABX9TyOXpHPmpPuL35fLd559f9OH",
      "include_colab_link": true
    },
    "kernelspec": {
      "name": "python3",
      "display_name": "Python 3"
    },
    "language_info": {
      "name": "python"
    }
  },
  "cells": [
    {
      "cell_type": "markdown",
      "metadata": {
        "id": "view-in-github",
        "colab_type": "text"
      },
      "source": [
        "<a href=\"https://colab.research.google.com/github/MahalakshmiDSML/Python-Assignment-5/blob/main/Python_Assignment_5_File_Handling%2C_Exception_Handling%2C_OOPS.ipynb\" target=\"_parent\"><img src=\"https://colab.research.google.com/assets/colab-badge.svg\" alt=\"Open In Colab\"/></a>"
      ]
    },
    {
      "cell_type": "markdown",
      "source": [
        "#Python Assignment 5: File Handling, Exception Handling & OOPS\n"
      ],
      "metadata": {
        "id": "LHpBC2wbpvKc"
      }
    },
    {
      "cell_type": "markdown",
      "source": [
        "###File Handling:  \n",
        "\n",
        "Problem Statement: Create a Python program that performs the following tasks:\n",
        "1. \tReads data from a text file.\n",
        "2. \tProcesses the data.\n",
        "3.\tWrites the processed data to a new text file.\n",
        "\n",
        "###Step wise Instructions:\n",
        "1.)\t**Write**:\n",
        "➢\tPrompt the user to enter their name, age, and favorite color. Save this information to a text file named user_info.txt.\n",
        "2.)\t**Read**:\n",
        "➢\tRead the content of user_info.txt and display it on the console.\n",
        "3.)\t**Append**:\n",
        "➢\tPrompt the user to enter their favorite movie and append this new piece of information to the file user_info.txt.\n",
        "4.)\t**Readlines**:\n",
        "➢\tRead all the lines from user_info.txt and display each line on the console, one by one.\n"
      ],
      "metadata": {
        "id": "zkJj_9sWp3_7"
      }
    },
    {
      "cell_type": "code",
      "source": [
        "name= input(\"Enter Your Name:\")\n",
        "age=int(input(\"Enter Your Age:\"))\n",
        "Fav_Color=input(\"Enter Your Fav Color\")\n",
        "file_name=input(\"User File Name:\")\n",
        "content=(f\"Name:{name}\\n Age:{age}\\n Fav_Color:{Fav_Color}\\n\")\n",
        "with open(file_name,\"w\") as f1:\n",
        "  f1.write(content)"
      ],
      "metadata": {
        "colab": {
          "base_uri": "https://localhost:8080/"
        },
        "id": "yIuu2r1FrVD6",
        "outputId": "3d6e391a-a131-4452-bc25-e2e8faa75ed8"
      },
      "execution_count": null,
      "outputs": [
        {
          "name": "stdout",
          "output_type": "stream",
          "text": [
            "Enter Your Name:Maha\n",
            "Enter Your Age:27\n",
            "Enter Your Fav ColorBlack\n",
            "User File Name:User_info.txt\n"
          ]
        }
      ]
    },
    {
      "cell_type": "code",
      "source": [
        "with open(file_name,\"r\")as f1:\n",
        "  content=f1.read()\n",
        "  print(content)"
      ],
      "metadata": {
        "colab": {
          "base_uri": "https://localhost:8080/"
        },
        "id": "9GO3awv8EL11",
        "outputId": "eb35b98e-7206-4858-dd56-9afd180a3c36"
      },
      "execution_count": null,
      "outputs": [
        {
          "output_type": "stream",
          "name": "stdout",
          "text": [
            "Name:Maha\n",
            " Age:27\n",
            " Fav_Color:Black\n",
            "\n"
          ]
        }
      ]
    },
    {
      "cell_type": "code",
      "source": [
        "Favorite_Movie = input(\"Enter your Favorite Movie: \")\n",
        "content=(f\"Favorite Movie:{Favorite_Movie}\")\n",
        "with open(file_name,\"a\")as f1:\n",
        "  f1.write(content)\n",
        "  print(\"Data Inserted\")"
      ],
      "metadata": {
        "colab": {
          "base_uri": "https://localhost:8080/"
        },
        "id": "KlAS7jflFv97",
        "outputId": "31645961-6ef3-4d62-8b74-7e9da21ebffc"
      },
      "execution_count": null,
      "outputs": [
        {
          "output_type": "stream",
          "name": "stdout",
          "text": [
            "Enter your Favorite Movie: Kalki\n",
            "Data Inserted\n"
          ]
        }
      ]
    },
    {
      "cell_type": "code",
      "source": [
        "print(\"\\nDisplaying each line from user_info.txt:\")\n",
        "with open(file_name, \"r\") as f1:\n",
        " for line in f1:\n",
        "  print(line.strip())\n",
        " # for line in f1.read().splitlines():\n",
        "    # print(line)"
      ],
      "metadata": {
        "colab": {
          "base_uri": "https://localhost:8080/"
        },
        "id": "O4XGC9IvMw-S",
        "outputId": "2cd0302d-3686-4ca8-a867-8fce7a544530"
      },
      "execution_count": null,
      "outputs": [
        {
          "output_type": "stream",
          "name": "stdout",
          "text": [
            "\n",
            "Displaying each line from user_info.txt:\n",
            "Name:Maha\n",
            "Age:27\n",
            "Fav_Color:Black\n",
            "Favorite Movie:Kalki\n"
          ]
        }
      ]
    },
    {
      "cell_type": "markdown",
      "source": [
        "**Exception Handling:**  \n",
        "Problem Statement: Create a Python program that converts a temperature from Celsius to Fahrenheit by performing the following tasks:\n",
        "1.\tPrompts the user to enter a temperature in Celsius.\n",
        "2.\tConverts the entered temperature from Celsius to Fahrenheit.\n",
        "3.\tImplements exception handling to manage errors that may occur during the conversion process.\n",
        "4.\tProvides appropriate error messages based on the type of exception encountered\n"
      ],
      "metadata": {
        "id": "OaBt1SEHp3UJ"
      }
    },
    {
      "cell_type": "markdown",
      "source": [
        "**Step wise Instructions**:\n",
        "1) **Prompting** for User Input:\n",
        "➢\tUse the input() function to prompt the user to enter a temperature in Celsius.\n",
        "➢\tConvert the input to a float using float().\n",
        "2) **Converting** Celsius to Fahrenheit:\n",
        "➢\tUse the formula: Fahrenheit = (Celsius * 9/5) + 32, where Celsius is the temperature in Celsius and Fahrenheit is the temperature in Fahrenheit.\n",
        "3) **Handling** Exceptions:\n",
        "➢\tUse try, except, else, and finally blocks to handle exceptions that may occur during the conversion process.\n",
        "➢\t**ZeroDivisionError**:\n",
        "★\tHandle this exception that may occur if an unexpected division by zero happens during the process.\n",
        "★\tProvide a message indicating that division by zero is not allowed.\n",
        "➢\t**TypeError**:\n",
        "★\tHandle this exception if an arithmetic operation is attempted on incompatible types (e.g., dividing an integer by a string).\n",
        "★\tProvide a message indicating that arithmetic operations cannot be performed on incompatible types.\n",
        "➢\t**ValueError**:\n",
        "★\tHandle this exception if the user enters a non-numeric value when prompted for the temperature in Celsius.\n",
        "★\tProvide a message indicating that the input should be a numeric value.\n",
        "➢\t**Generic Exception**:\n",
        "★\tHandle any other unexpected exceptions that may arise during the execution of the program.\n",
        "★\tProvide a generic error message indicating that an unexpected error occurred.\n",
        "\n",
        "4) **Output Result**:\n",
        "●\tIf no exceptions occur, print the calculated Fahrenheit temperature.\n",
        "●\tUse the finally block to print a message indicating the end of the program, regardless of whether an error occurred.\n"
      ],
      "metadata": {
        "id": "eAZYMBrsp1sn"
      }
    },
    {
      "cell_type": "code",
      "source": [
        "try:\n",
        " # Celsius = float(input(\"Enter temperature in Celsius: \"))\n",
        " Input_Celsius = input(\"Enter temperature in Celsius: \")\n",
        " Celsius = float(Input_Celsius)\n",
        " fahrenheit = (Celsius * 9/5) + 32\n",
        "except  ZeroDivisionError:\n",
        " print(\"Error:Division by zero is not allowed\")\n",
        "except TypeError:\n",
        " print(\"Error:Arithmetic operations cannot be performed on incompatible types\")\n",
        "except ValueError:\n",
        " print(\"Error: Invalid input! Input should be a numeric value\")\n",
        "except Exception as e:\n",
        "  print(f\"An unexpected error occurred: {e}\")\n",
        "else:\n",
        "    print(f\"{Celsius}°C is equal to {fahrenheit:.2f}°F\")\n",
        "finally:\n",
        "    print(\"Temperature conversion attempt completed.\")"
      ],
      "metadata": {
        "colab": {
          "base_uri": "https://localhost:8080/"
        },
        "id": "B0oeLl14sny4",
        "outputId": "1fd6e08b-1f42-48d7-bd96-a9f59a8fdb73"
      },
      "execution_count": null,
      "outputs": [
        {
          "output_type": "stream",
          "name": "stdout",
          "text": [
            "Enter temperature in Celsius: 65\n",
            "65.0°C is equal to 149.00°F\n",
            "Temperature conversion attempt completed.\n"
          ]
        }
      ]
    },
    {
      "cell_type": "markdown",
      "source": [
        "##OOPS:  \n",
        "\n",
        "Problem Statement: To create a simple class in Python and understand how to create and use objects of that class.\n",
        "\n",
        "**Step wise Instructions:**\n",
        "1)\t**Create a Class Library:**\n",
        "★\t**Attributes**:\n",
        "➢\tbook_title: Holds the title of the book.\n",
        "➢\tyear_published: Holds the year the book was published.\n",
        "★\t**Methods**:\n",
        "➢\t__init__(self, book_title, year_published): Initializes the class with book_title and year_published.\n",
        "➢\tdisplay_info(self): Prints out the book's title and year of publication.\n",
        "\n",
        "2)\t**Create Objects and Use Methods:**\n",
        "★\tCreate at least two instances (objects) of the Library class with different titles and years.\n",
        "★\tCall the display_info method for each object to display their respective information.\n"
      ],
      "metadata": {
        "id": "kmm8DKhPp08x"
      }
    },
    {
      "cell_type": "code",
      "source": [
        "class Library:\n",
        " def __init__(self, book_title, year_published):\n",
        "        self.book_title = book_title\n",
        "        self.year_published = year_published\n",
        " def display_info(self):\n",
        "        print(f\"Title: {self.book_title}\\n Year Published: {self.year_published}\")"
      ],
      "metadata": {
        "id": "N7PsnjmzslLb"
      },
      "execution_count": null,
      "outputs": []
    },
    {
      "cell_type": "code",
      "source": [
        "book1=Library(\"Harry Potter and the Philosopher's Stone\", 1997)\n",
        "book2=Library(\"Journey to the Center of the Earth\", 1864)\n",
        "\n",
        "print(\"Book 1 Information:\")\n",
        "book1.display_info()\n",
        "\n",
        "print(\"\\nBook 2 Information:\")\n",
        "book2.display_info()"
      ],
      "metadata": {
        "colab": {
          "base_uri": "https://localhost:8080/"
        },
        "id": "5AVL1_jsdGDA",
        "outputId": "9f41de3f-184e-4827-cbe0-e5fa2a3ab3bf"
      },
      "execution_count": null,
      "outputs": [
        {
          "output_type": "stream",
          "name": "stdout",
          "text": [
            "Book 1 Information:\n",
            "Title: Harry Potter and the Philosopher's Stone\n",
            " Year Published: 1997\n",
            "\n",
            "Book 2 Information:\n",
            "Title: Journey to the Center of the Earth\n",
            " Year Published: 1864\n"
          ]
        }
      ]
    },
    {
      "cell_type": "code",
      "source": [
        "book1.display_info()"
      ],
      "metadata": {
        "colab": {
          "base_uri": "https://localhost:8080/"
        },
        "id": "y9URbz_QeY01",
        "outputId": "4758009d-1ef0-423a-f7ab-056e76309b99"
      },
      "execution_count": null,
      "outputs": [
        {
          "output_type": "stream",
          "name": "stdout",
          "text": [
            "Title: Harry Potter and the Philosopher's Stone\n",
            " Year Published: 1997\n"
          ]
        }
      ]
    },
    {
      "cell_type": "code",
      "source": [
        "book2.display_info()"
      ],
      "metadata": {
        "colab": {
          "base_uri": "https://localhost:8080/"
        },
        "id": "e1vbQTwnebg8",
        "outputId": "beadc112-d0f2-4fdb-c2f5-ab5403ce576c"
      },
      "execution_count": null,
      "outputs": [
        {
          "output_type": "stream",
          "name": "stdout",
          "text": [
            "Title: Journey to the Center of the Earth\n",
            " Year Published: 1864\n"
          ]
        }
      ]
    },
    {
      "cell_type": "code",
      "source": [],
      "metadata": {
        "id": "_M9C_sfaeeoj"
      },
      "execution_count": null,
      "outputs": []
    }
  ]
}